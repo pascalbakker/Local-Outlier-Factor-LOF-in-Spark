{
 "cells": [
  {
   "cell_type": "code",
   "execution_count": 7,
   "metadata": {},
   "outputs": [],
   "source": [
    "import matplotlib.pyplot as plt\n",
    "import pandas as pd\n",
    "import numpy as np"
   ]
  },
  {
   "cell_type": "code",
   "execution_count": 47,
   "metadata": {
    "scrolled": false
   },
   "outputs": [
    {
     "data": {
      "text/plain": [
       "Text(0.5, 0, 'Y')"
      ]
     },
     "execution_count": 47,
     "metadata": {},
     "output_type": "execute_result"
    },
    {
     "data": {
      "image/png": "[encoded data removed]",
      "text/plain": [
       "<Figure size 432x288 with 1 Axes>"
      ]
     },
     "metadata": {
      "needs_background": "light"
     },
     "output_type": "display_data"
    }
   ],
   "source": [
    "data = pd.read_csv('data/data.csv', names=[\"x\",\"y\"])\n",
    "results = pd.read_csv('data/results/lof.txt/part-00000', names=[\"index1\",\"LRD\"])\n",
    "data['index1'] = data.index\n",
    "merged = pd.merge(data,results,on=\"index1\")\n",
    "merged['index1']\n",
    "merged.LRD = 1/merged.LRD\n",
    "merged['LRD'] = np.where(1/merged['LRD'] > .95, 1.0, 0.0)\n",
    "fig = plt.scatter(merged.x,merged.y, s=20, c=merged.LRD)\n",
    "plt.title(\"LOF Overlayed on Dataset\")\n",
    "plt.xlabel(\"X\")\n",
    "plt.xlabel(\"Y\")"
   ]
  },
  {
   "cell_type": "code",
   "execution_count": 34,
   "metadata": {},
   "outputs": [
    {
     "data": {
      "text/html": [
       "<div>\n",
       "<style scoped>\n",
       "    .dataframe tbody tr th:only-of-type {\n",
       "        vertical-align: middle;\n",
       "    }\n",
       "\n",
       "    .dataframe tbody tr th {\n",
       "        vertical-align: top;\n",
       "    }\n",
       "\n",
       "    .dataframe thead th {\n",
       "        text-align: right;\n",
       "    }\n",
       "</style>\n",
       "<table border=\"1\" class=\"dataframe\">\n",
       "  <thead>\n",
       "    <tr style=\"text-align: right;\">\n",
       "      <th></th>\n",
       "      <th>x</th>\n",
       "      <th>y</th>\n",
       "      <th>index1</th>\n",
       "      <th>LRD</th>\n",
       "    </tr>\n",
       "  </thead>\n",
       "  <tbody>\n",
       "  </tbody>\n",
       "</table>\n",
       "</div>"
      ],
      "text/plain": [
       "Empty DataFrame\n",
       "Columns: [x, y, index1, LRD]\n",
       "Index: []"
      ]
     },
     "execution_count": 34,
     "metadata": {},
     "output_type": "execute_result"
    }
   ],
   "source": [
    "merged.loc[(merged.LRD<.9)]"
   ]
  },
  {
   "cell_type": "code",
   "execution_count": 32,
   "metadata": {},
   "outputs": [
    {
     "data": {
      "text/html": [
       "<div>\n",
       "<style scoped>\n",
       "    .dataframe tbody tr th:only-of-type {\n",
       "        vertical-align: middle;\n",
       "    }\n",
       "\n",
       "    .dataframe tbody tr th {\n",
       "        vertical-align: top;\n",
       "    }\n",
       "\n",
       "    .dataframe thead th {\n",
       "        text-align: right;\n",
       "    }\n",
       "</style>\n",
       "<table border=\"1\" class=\"dataframe\">\n",
       "  <thead>\n",
       "    <tr style=\"text-align: right;\">\n",
       "      <th></th>\n",
       "      <th>x</th>\n",
       "      <th>y</th>\n",
       "      <th>index1</th>\n",
       "      <th>LRD</th>\n",
       "    </tr>\n",
       "  </thead>\n",
       "  <tbody>\n",
       "    <tr>\n",
       "      <th>0</th>\n",
       "      <td>9.616232</td>\n",
       "      <td>6.821204</td>\n",
       "      <td>0</td>\n",
       "      <td>0.980652</td>\n",
       "    </tr>\n",
       "    <tr>\n",
       "      <th>1</th>\n",
       "      <td>10.757276</td>\n",
       "      <td>12.782887</td>\n",
       "      <td>1</td>\n",
       "      <td>1.002547</td>\n",
       "    </tr>\n",
       "    <tr>\n",
       "      <th>2</th>\n",
       "      <td>10.383064</td>\n",
       "      <td>9.921313</td>\n",
       "      <td>2</td>\n",
       "      <td>0.992502</td>\n",
       "    </tr>\n",
       "    <tr>\n",
       "      <th>3</th>\n",
       "      <td>14.721831</td>\n",
       "      <td>8.904125</td>\n",
       "      <td>3</td>\n",
       "      <td>1.002506</td>\n",
       "    </tr>\n",
       "    <tr>\n",
       "      <th>4</th>\n",
       "      <td>14.576181</td>\n",
       "      <td>8.423416</td>\n",
       "      <td>4</td>\n",
       "      <td>1.000507</td>\n",
       "    </tr>\n",
       "    <tr>\n",
       "      <th>...</th>\n",
       "      <td>...</td>\n",
       "      <td>...</td>\n",
       "      <td>...</td>\n",
       "      <td>...</td>\n",
       "    </tr>\n",
       "    <tr>\n",
       "      <th>995</th>\n",
       "      <td>10.905605</td>\n",
       "      <td>9.312742</td>\n",
       "      <td>995</td>\n",
       "      <td>0.992211</td>\n",
       "    </tr>\n",
       "    <tr>\n",
       "      <th>996</th>\n",
       "      <td>8.147744</td>\n",
       "      <td>6.030030</td>\n",
       "      <td>996</td>\n",
       "      <td>0.973930</td>\n",
       "    </tr>\n",
       "    <tr>\n",
       "      <th>997</th>\n",
       "      <td>8.788792</td>\n",
       "      <td>7.683682</td>\n",
       "      <td>997</td>\n",
       "      <td>0.980820</td>\n",
       "    </tr>\n",
       "    <tr>\n",
       "      <th>998</th>\n",
       "      <td>5.957744</td>\n",
       "      <td>12.059160</td>\n",
       "      <td>998</td>\n",
       "      <td>0.985229</td>\n",
       "    </tr>\n",
       "    <tr>\n",
       "      <th>999</th>\n",
       "      <td>12.526030</td>\n",
       "      <td>6.817223</td>\n",
       "      <td>999</td>\n",
       "      <td>0.989246</td>\n",
       "    </tr>\n",
       "  </tbody>\n",
       "</table>\n",
       "<p>1000 rows × 4 columns</p>\n",
       "</div>"
      ],
      "text/plain": [
       "             x          y  index1       LRD\n",
       "0     9.616232   6.821204       0  0.980652\n",
       "1    10.757276  12.782887       1  1.002547\n",
       "2    10.383064   9.921313       2  0.992502\n",
       "3    14.721831   8.904125       3  1.002506\n",
       "4    14.576181   8.423416       4  1.000507\n",
       "..         ...        ...     ...       ...\n",
       "995  10.905605   9.312742     995  0.992211\n",
       "996   8.147744   6.030030     996  0.973930\n",
       "997   8.788792   7.683682     997  0.980820\n",
       "998   5.957744  12.059160     998  0.985229\n",
       "999  12.526030   6.817223     999  0.989246\n",
       "\n",
       "[1000 rows x 4 columns]"
      ]
     },
     "execution_count": 32,
     "metadata": {},
     "output_type": "execute_result"
    }
   ],
   "source": [
    "merged.loc[(merged.y <20) & (merged.x<20)]"
   ]
  },
  {
   "cell_type": "code",
   "execution_count": 19,
   "metadata": {},
   "outputs": [
    {
     "data": {
      "text/html": [
       "<div>\n",
       "<style scoped>\n",
       "    .dataframe tbody tr th:only-of-type {\n",
       "        vertical-align: middle;\n",
       "    }\n",
       "\n",
       "    .dataframe tbody tr th {\n",
       "        vertical-align: top;\n",
       "    }\n",
       "\n",
       "    .dataframe thead th {\n",
       "        text-align: right;\n",
       "    }\n",
       "</style>\n",
       "<table border=\"1\" class=\"dataframe\">\n",
       "  <thead>\n",
       "    <tr style=\"text-align: right;\">\n",
       "      <th></th>\n",
       "      <th>x</th>\n",
       "      <th>y</th>\n",
       "      <th>index1</th>\n",
       "      <th>LRD</th>\n",
       "    </tr>\n",
       "  </thead>\n",
       "  <tbody>\n",
       "    <tr>\n",
       "      <th>1000</th>\n",
       "      <td>87.008200</td>\n",
       "      <td>109.825227</td>\n",
       "      <td>1000</td>\n",
       "      <td>0.863902</td>\n",
       "    </tr>\n",
       "    <tr>\n",
       "      <th>1001</th>\n",
       "      <td>99.155332</td>\n",
       "      <td>101.572491</td>\n",
       "      <td>1001</td>\n",
       "      <td>0.873125</td>\n",
       "    </tr>\n",
       "    <tr>\n",
       "      <th>1002</th>\n",
       "      <td>108.162397</td>\n",
       "      <td>85.742473</td>\n",
       "      <td>1002</td>\n",
       "      <td>0.857031</td>\n",
       "    </tr>\n",
       "    <tr>\n",
       "      <th>1003</th>\n",
       "      <td>85.855767</td>\n",
       "      <td>105.118128</td>\n",
       "      <td>1003</td>\n",
       "      <td>0.840425</td>\n",
       "    </tr>\n",
       "    <tr>\n",
       "      <th>1004</th>\n",
       "      <td>88.939851</td>\n",
       "      <td>84.506341</td>\n",
       "      <td>1004</td>\n",
       "      <td>0.771058</td>\n",
       "    </tr>\n",
       "    <tr>\n",
       "      <th>...</th>\n",
       "      <td>...</td>\n",
       "      <td>...</td>\n",
       "      <td>...</td>\n",
       "      <td>...</td>\n",
       "    </tr>\n",
       "    <tr>\n",
       "      <th>1995</th>\n",
       "      <td>84.412751</td>\n",
       "      <td>109.965901</td>\n",
       "      <td>1995</td>\n",
       "      <td>0.856186</td>\n",
       "    </tr>\n",
       "    <tr>\n",
       "      <th>1996</th>\n",
       "      <td>102.113583</td>\n",
       "      <td>98.761429</td>\n",
       "      <td>1996</td>\n",
       "      <td>0.873982</td>\n",
       "    </tr>\n",
       "    <tr>\n",
       "      <th>1997</th>\n",
       "      <td>94.508977</td>\n",
       "      <td>81.555815</td>\n",
       "      <td>1997</td>\n",
       "      <td>0.783507</td>\n",
       "    </tr>\n",
       "    <tr>\n",
       "      <th>1998</th>\n",
       "      <td>94.421209</td>\n",
       "      <td>105.184569</td>\n",
       "      <td>1998</td>\n",
       "      <td>0.869995</td>\n",
       "    </tr>\n",
       "    <tr>\n",
       "      <th>1999</th>\n",
       "      <td>94.731238</td>\n",
       "      <td>83.520539</td>\n",
       "      <td>1999</td>\n",
       "      <td>0.790732</td>\n",
       "    </tr>\n",
       "  </tbody>\n",
       "</table>\n",
       "<p>1000 rows × 4 columns</p>\n",
       "</div>"
      ],
      "text/plain": [
       "               x           y  index1       LRD\n",
       "1000   87.008200  109.825227    1000  0.863902\n",
       "1001   99.155332  101.572491    1001  0.873125\n",
       "1002  108.162397   85.742473    1002  0.857031\n",
       "1003   85.855767  105.118128    1003  0.840425\n",
       "1004   88.939851   84.506341    1004  0.771058\n",
       "...          ...         ...     ...       ...\n",
       "1995   84.412751  109.965901    1995  0.856186\n",
       "1996  102.113583   98.761429    1996  0.873982\n",
       "1997   94.508977   81.555815    1997  0.783507\n",
       "1998   94.421209  105.184569    1998  0.869995\n",
       "1999   94.731238   83.520539    1999  0.790732\n",
       "\n",
       "[1000 rows x 4 columns]"
      ]
     },
     "execution_count": 19,
     "metadata": {},
     "output_type": "execute_result"
    }
   ],
   "source": [
    "merged.loc[(merged.y >80) & (merged.x>80)]"
   ]
  },
  {
   "cell_type": "code",
   "execution_count": 44,
   "metadata": {},
   "outputs": [
    {
     "data": {
      "text/plain": [
       "Text(0.5, 1.0, 'LOF Overlayed on Dataset')"
      ]
     },
     "execution_count": 44,
     "metadata": {},
     "output_type": "execute_result"
    },
    {
     "data": {
      "image/png": "[encoded data removed]",
      "text/plain": [
       "<Figure size 432x288 with 1 Axes>"
      ]
     },
     "metadata": {
      "needs_background": "light"
     },
     "output_type": "display_data"
    }
   ],
   "source": [
    "from sklearn.neighbors import LocalOutlierFactor\n",
    "clf = LocalOutlierFactor(n_neighbors=5)\n",
    "data2 = data.copy().append({'x':5,'y':100}, ignore_index=True)\n",
    "clf.fit_predict(data2[[\"x\",\"y\"]].to_numpy())\n",
    "data2[\"LOF\"] = clf.negative_outlier_factor_ \n",
    "fig = plt.scatter(data2.x,data2.y, s=5, c=data2.LOF)\n",
    "plt.title(\"LOF Overlayed on Dataset\")"
   ]
  },
  {
   "cell_type": "code",
   "execution_count": 30,
   "metadata": {},
   "outputs": [
    {
     "data": {
      "text/plain": [
       "array([False, False, False, ..., False, False, False])"
      ]
     },
     "execution_count": 30,
     "metadata": {},
     "output_type": "execute_result"
    }
   ],
   "source": [
    " clf.negative_outlier_factor_ > 1.2"
   ]
  },
  {
   "cell_type": "code",
   "execution_count": 45,
   "metadata": {},
   "outputs": [
    {
     "ename": "NameError",
     "evalue": "name 'merged1' is not defined",
     "output_type": "error",
     "traceback": [
      "\u001b[0;31m---------------------------------------------------------------------------\u001b[0m",
      "\u001b[0;31mNameError\u001b[0m                                 Traceback (most recent call last)",
      "\u001b[0;32m<ipython-input-45-a9c2710d125d>\u001b[0m in \u001b[0;36m<module>\u001b[0;34m\u001b[0m\n\u001b[0;32m----> 1\u001b[0;31m \u001b[0mgroups\u001b[0m \u001b[0;34m=\u001b[0m \u001b[0mmerged1\u001b[0m\u001b[0;34m.\u001b[0m\u001b[0mgroupby\u001b[0m\u001b[0;34m(\u001b[0m\u001b[0;34m'LRD'\u001b[0m\u001b[0;34m)\u001b[0m\u001b[0;34m\u001b[0m\u001b[0;34m\u001b[0m\u001b[0m\n\u001b[0m\u001b[1;32m      2\u001b[0m \u001b[0;32mfor\u001b[0m \u001b[0mname\u001b[0m\u001b[0;34m,\u001b[0m \u001b[0mgroup\u001b[0m \u001b[0;32min\u001b[0m \u001b[0mgroups\u001b[0m\u001b[0;34m:\u001b[0m\u001b[0;34m\u001b[0m\u001b[0;34m\u001b[0m\u001b[0m\n\u001b[1;32m      3\u001b[0m     \u001b[0mplt\u001b[0m\u001b[0;34m.\u001b[0m\u001b[0mplot\u001b[0m\u001b[0;34m(\u001b[0m\u001b[0mgroup\u001b[0m\u001b[0;34m.\u001b[0m\u001b[0mx\u001b[0m\u001b[0;34m,\u001b[0m \u001b[0mgroup\u001b[0m\u001b[0;34m.\u001b[0m\u001b[0my\u001b[0m\u001b[0;34m,\u001b[0m \u001b[0mmarker\u001b[0m\u001b[0;34m=\u001b[0m\u001b[0;34m'o'\u001b[0m\u001b[0;34m,\u001b[0m \u001b[0mlinestyle\u001b[0m\u001b[0;34m=\u001b[0m\u001b[0;34m''\u001b[0m\u001b[0;34m,\u001b[0m \u001b[0mmarkersize\u001b[0m\u001b[0;34m=\u001b[0m\u001b[0;36m12\u001b[0m\u001b[0;34m,\u001b[0m \u001b[0mlabel\u001b[0m\u001b[0;34m=\u001b[0m\u001b[0mname\u001b[0m\u001b[0;34m)\u001b[0m\u001b[0;34m\u001b[0m\u001b[0;34m\u001b[0m\u001b[0m\n",
      "\u001b[0;31mNameError\u001b[0m: name 'merged1' is not defined"
     ]
    }
   ],
   "source": [
    "groups = merged1.groupby('LRD')\n",
    "for name, group in groups:\n",
    "    plt.plot(group.x, group.y, marker='o', linestyle='', markersize=12, label=name)"
   ]
  },
  {
   "cell_type": "code",
   "execution_count": 89,
   "metadata": {},
   "outputs": [
    {
     "data": {
      "text/html": [
       "<div>\n",
       "<style scoped>\n",
       "    .dataframe tbody tr th:only-of-type {\n",
       "        vertical-align: middle;\n",
       "    }\n",
       "\n",
       "    .dataframe tbody tr th {\n",
       "        vertical-align: top;\n",
       "    }\n",
       "\n",
       "    .dataframe thead th {\n",
       "        text-align: right;\n",
       "    }\n",
       "</style>\n",
       "<table border=\"1\" class=\"dataframe\">\n",
       "  <thead>\n",
       "    <tr style=\"text-align: right;\">\n",
       "      <th></th>\n",
       "      <th>x</th>\n",
       "      <th>y</th>\n",
       "      <th>LRD</th>\n",
       "    </tr>\n",
       "  </thead>\n",
       "  <tbody>\n",
       "    <tr>\n",
       "      <th>0</th>\n",
       "      <td>9.616232</td>\n",
       "      <td>6.821204</td>\n",
       "      <td>False</td>\n",
       "    </tr>\n",
       "    <tr>\n",
       "      <th>1</th>\n",
       "      <td>10.757276</td>\n",
       "      <td>12.782887</td>\n",
       "      <td>False</td>\n",
       "    </tr>\n",
       "    <tr>\n",
       "      <th>2</th>\n",
       "      <td>10.383064</td>\n",
       "      <td>9.921313</td>\n",
       "      <td>False</td>\n",
       "    </tr>\n",
       "    <tr>\n",
       "      <th>3</th>\n",
       "      <td>14.721831</td>\n",
       "      <td>8.904125</td>\n",
       "      <td>False</td>\n",
       "    </tr>\n",
       "    <tr>\n",
       "      <th>4</th>\n",
       "      <td>14.576181</td>\n",
       "      <td>8.423416</td>\n",
       "      <td>False</td>\n",
       "    </tr>\n",
       "    <tr>\n",
       "      <th>...</th>\n",
       "      <td>...</td>\n",
       "      <td>...</td>\n",
       "      <td>...</td>\n",
       "    </tr>\n",
       "    <tr>\n",
       "      <th>2005</th>\n",
       "      <td>43.330490</td>\n",
       "      <td>45.680367</td>\n",
       "      <td>False</td>\n",
       "    </tr>\n",
       "    <tr>\n",
       "      <th>2006</th>\n",
       "      <td>36.533063</td>\n",
       "      <td>41.937020</td>\n",
       "      <td>False</td>\n",
       "    </tr>\n",
       "    <tr>\n",
       "      <th>2007</th>\n",
       "      <td>49.164949</td>\n",
       "      <td>36.293804</td>\n",
       "      <td>False</td>\n",
       "    </tr>\n",
       "    <tr>\n",
       "      <th>2008</th>\n",
       "      <td>51.274593</td>\n",
       "      <td>43.378843</td>\n",
       "      <td>False</td>\n",
       "    </tr>\n",
       "    <tr>\n",
       "      <th>2009</th>\n",
       "      <td>44.288244</td>\n",
       "      <td>45.875986</td>\n",
       "      <td>False</td>\n",
       "    </tr>\n",
       "  </tbody>\n",
       "</table>\n",
       "<p>2010 rows × 3 columns</p>\n",
       "</div>"
      ],
      "text/plain": [
       "              x          y    LRD\n",
       "0      9.616232   6.821204  False\n",
       "1     10.757276  12.782887  False\n",
       "2     10.383064   9.921313  False\n",
       "3     14.721831   8.904125  False\n",
       "4     14.576181   8.423416  False\n",
       "...         ...        ...    ...\n",
       "2005  43.330490  45.680367  False\n",
       "2006  36.533063  41.937020  False\n",
       "2007  49.164949  36.293804  False\n",
       "2008  51.274593  43.378843  False\n",
       "2009  44.288244  45.875986  False\n",
       "\n",
       "[2010 rows x 3 columns]"
      ]
     },
     "execution_count": 89,
     "metadata": {},
     "output_type": "execute_result"
    }
   ],
   "source": [
    "merged"
   ]
  },
  {
   "cell_type": "code",
   "execution_count": 11,
   "metadata": {},
   "outputs": [],
   "source": [
    "from sklearn.neighbors import LocalOutlierFactor\n",
    "clf = LocalOutlierFactor(n_neighbors=30, contamination=.1)\n",
    "y_pred = clf.fit_predict(data)\n",
    "LOF_Scores = clf.negative_outlier_factor_\n",
    "LOF_pred=pd.Series(y_pred).replace([-1,1],[1,0])\n",
    "LOF_anomalies=data[LOF_pred==1]"
   ]
  },
  {
   "cell_type": "code",
   "execution_count": 25,
   "metadata": {},
   "outputs": [
    {
     "data": {
      "text/html": [
       "<div>\n",
       "<style scoped>\n",
       "    .dataframe tbody tr th:only-of-type {\n",
       "        vertical-align: middle;\n",
       "    }\n",
       "\n",
       "    .dataframe tbody tr th {\n",
       "        vertical-align: top;\n",
       "    }\n",
       "\n",
       "    .dataframe thead th {\n",
       "        text-align: right;\n",
       "    }\n",
       "</style>\n",
       "<table border=\"1\" class=\"dataframe\">\n",
       "  <thead>\n",
       "    <tr style=\"text-align: right;\">\n",
       "      <th></th>\n",
       "      <th>x</th>\n",
       "      <th>y</th>\n",
       "      <th>index1</th>\n",
       "      <th>lof</th>\n",
       "    </tr>\n",
       "  </thead>\n",
       "  <tbody>\n",
       "    <tr>\n",
       "      <th>0</th>\n",
       "      <td>9.616232</td>\n",
       "      <td>6.821204</td>\n",
       "      <td>0</td>\n",
       "      <td>-1.228322</td>\n",
       "    </tr>\n",
       "    <tr>\n",
       "      <th>1</th>\n",
       "      <td>10.757276</td>\n",
       "      <td>12.782887</td>\n",
       "      <td>1</td>\n",
       "      <td>-1.200333</td>\n",
       "    </tr>\n",
       "    <tr>\n",
       "      <th>2</th>\n",
       "      <td>10.383064</td>\n",
       "      <td>9.921313</td>\n",
       "      <td>2</td>\n",
       "      <td>-1.175099</td>\n",
       "    </tr>\n",
       "    <tr>\n",
       "      <th>3</th>\n",
       "      <td>14.721831</td>\n",
       "      <td>8.904125</td>\n",
       "      <td>3</td>\n",
       "      <td>-1.172529</td>\n",
       "    </tr>\n",
       "    <tr>\n",
       "      <th>4</th>\n",
       "      <td>14.576181</td>\n",
       "      <td>8.423416</td>\n",
       "      <td>4</td>\n",
       "      <td>-1.153459</td>\n",
       "    </tr>\n",
       "    <tr>\n",
       "      <th>...</th>\n",
       "      <td>...</td>\n",
       "      <td>...</td>\n",
       "      <td>...</td>\n",
       "      <td>...</td>\n",
       "    </tr>\n",
       "    <tr>\n",
       "      <th>2005</th>\n",
       "      <td>43.330490</td>\n",
       "      <td>45.680367</td>\n",
       "      <td>2005</td>\n",
       "      <td>-2.194854</td>\n",
       "    </tr>\n",
       "    <tr>\n",
       "      <th>2006</th>\n",
       "      <td>36.533063</td>\n",
       "      <td>41.937020</td>\n",
       "      <td>2006</td>\n",
       "      <td>-2.338549</td>\n",
       "    </tr>\n",
       "    <tr>\n",
       "      <th>2007</th>\n",
       "      <td>49.164949</td>\n",
       "      <td>36.293804</td>\n",
       "      <td>2007</td>\n",
       "      <td>-2.260249</td>\n",
       "    </tr>\n",
       "    <tr>\n",
       "      <th>2008</th>\n",
       "      <td>51.274593</td>\n",
       "      <td>43.378843</td>\n",
       "      <td>2008</td>\n",
       "      <td>-2.144096</td>\n",
       "    </tr>\n",
       "    <tr>\n",
       "      <th>2009</th>\n",
       "      <td>44.288244</td>\n",
       "      <td>45.875986</td>\n",
       "      <td>2009</td>\n",
       "      <td>-2.205347</td>\n",
       "    </tr>\n",
       "  </tbody>\n",
       "</table>\n",
       "<p>2010 rows × 4 columns</p>\n",
       "</div>"
      ],
      "text/plain": [
       "              x          y  index1       lof\n",
       "0      9.616232   6.821204       0 -1.228322\n",
       "1     10.757276  12.782887       1 -1.200333\n",
       "2     10.383064   9.921313       2 -1.175099\n",
       "3     14.721831   8.904125       3 -1.172529\n",
       "4     14.576181   8.423416       4 -1.153459\n",
       "...         ...        ...     ...       ...\n",
       "2005  43.330490  45.680367    2005 -2.194854\n",
       "2006  36.533063  41.937020    2006 -2.338549\n",
       "2007  49.164949  36.293804    2007 -2.260249\n",
       "2008  51.274593  43.378843    2008 -2.144096\n",
       "2009  44.288244  45.875986    2009 -2.205347\n",
       "\n",
       "[2010 rows x 4 columns]"
      ]
     },
     "execution_count": 25,
     "metadata": {},
     "output_type": "execute_result"
    }
   ],
   "source": [
    "data2 = data.copy()\n",
    "data2['lof'] = LOF_Scores.tolist()\n",
    "data2"
   ]
  },
  {
   "cell_type": "code",
   "execution_count": 27,
   "metadata": {},
   "outputs": [
    {
     "data": {
      "text/plain": [
       "Text(0.5, 0, 'Y')"
      ]
     },
     "execution_count": 27,
     "metadata": {},
     "output_type": "execute_result"
    },
    {
     "data": {
      "image/png": "[encoded data removed]",
      "text/plain": [
       "<Figure size 432x288 with 1 Axes>"
      ]
     },
     "metadata": {
      "needs_background": "light"
     },
     "output_type": "display_data"
    }
   ],
   "source": [
    "fig = plt.scatter(data2.x,data2.y, s=50, c=data2.lof)\n",
    "plt.title(\"LOF Overlayed on Dataset\")\n",
    "plt.xlabel(\"X\")\n",
    "plt.xlabel(\"Y\")"
   ]
  },
  {
   "cell_type": "code",
   "execution_count": null,
   "metadata": {},
   "outputs": [],
   "source": []
  }
 ],
 "metadata": {
  "kernelspec": {
   "display_name": "Python 3",
   "language": "python",
   "name": "python3"
  },
  "language_info": {
   "codemirror_mode": {
    "name": "ipython",
    "version": 3
   },
   "file_extension": ".py",
   "mimetype": "text/x-python",
   "name": "python",
   "nbconvert_exporter": "python",
   "pygments_lexer": "ipython3",
   "version": "3.9.0"
  }
 },
 "nbformat": 4,
 "nbformat_minor": 4
}
